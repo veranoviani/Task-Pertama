{
  "nbformat": 4,
  "nbformat_minor": 0,
  "metadata": {
    "colab": {
      "name": "Assignment 3 - Basic Python - Vera Noviani.ipynb",
      "provenance": [],
      "authorship_tag": "ABX9TyPPtWI0kKXJXTeJKrxdSPsb",
      "include_colab_link": true
    },
    "kernelspec": {
      "name": "python3",
      "display_name": "Python 3"
    },
    "language_info": {
      "name": "python"
    }
  },
  "cells": [
    {
      "cell_type": "markdown",
      "metadata": {
        "id": "view-in-github",
        "colab_type": "text"
      },
      "source": [
        "<a href=\"https://colab.research.google.com/github/veranoviani/Task-Pertama/blob/main/Assignment_3_Basic_Python_Vera_Noviani.ipynb\" target=\"_parent\"><img src=\"https://colab.research.google.com/assets/colab-badge.svg\" alt=\"Open In Colab\"/></a>"
      ]
    },
    {
      "cell_type": "markdown",
      "source": [
        "Tugas No 1\n",
        "\n",
        "Buatlah program yang meminta user untuk menginputkan nama mereka"
      ],
      "metadata": {
        "id": "Jy5Qzy4Rvt-7"
      }
    },
    {
      "cell_type": "code",
      "execution_count": null,
      "metadata": {
        "colab": {
          "base_uri": "https://localhost:8080/"
        },
        "id": "96TtmdYVf86k",
        "outputId": "f8012c7c-14db-4e74-b2c7-a148267066f0"
      },
      "outputs": [
        {
          "output_type": "stream",
          "name": "stdout",
          "text": [
            "Hallo Vera\n"
          ]
        }
      ],
      "source": [
        "# memanggil nama \n",
        "print(\"Hallo Vera\")"
      ]
    },
    {
      "cell_type": "markdown",
      "source": [
        "Tugas No 2\n",
        "\n",
        "Buatlah program yang meminta user untuk mengisi panjang dan lebar dari suatu ruangan dengan satuan yang berbeda"
      ],
      "metadata": {
        "id": "JvLHBVsmwHQx"
      }
    },
    {
      "cell_type": "code",
      "source": [
        "print (\"Menghitung luas persegi\") \n",
        "print ()\n",
        "\n",
        "#Input Panjang dan Lebar\n",
        "panjang = int(input(\"Panjang (m) : \"))\n",
        "lebar = int(input(\"Lebar (m) : \"))\n",
        "print()\n",
        "\n",
        "#Hitung Luas\n",
        "print(\"Menghitung luas persegi dalam meter\")\n",
        "print(\"Luas (m2) : \", panjang * lebar)\n",
        "print()\n",
        "print (\"Luas persegi dalam hektar\")\n",
        "print (\"Luas (ha) = \", panjang * lebar * 0.0001)\n"
      ],
      "metadata": {
        "colab": {
          "base_uri": "https://localhost:8080/"
        },
        "id": "8SA47RA6iXK-",
        "outputId": "4b3205cf-60c6-46fa-a63e-3e698bb423f0"
      },
      "execution_count": null,
      "outputs": [
        {
          "output_type": "stream",
          "name": "stdout",
          "text": [
            "Menghitung luas persegi\n",
            "\n",
            "Panjang (m) : 200\n",
            "Lebar (m) : 150\n",
            "\n",
            "Menghitung luas persegi dalam meter\n",
            "Luas (m2) :  30000\n",
            "\n",
            "Luas persegi dalam hektar\n",
            "Luas (ha) =  3.0\n"
          ]
        }
      ]
    },
    {
      "cell_type": "markdown",
      "source": [
        "Tugas No 3\n",
        "\n",
        "Buatlah sebuah program yang dapat menghitung jumlah dari n bilangan pertama dari bilangan natural atau bilangan bulat positif"
      ],
      "metadata": {
        "id": "elIt603cwTbw"
      }
    },
    {
      "cell_type": "code",
      "source": [
        "n = int(input(\"masukkan angka = \"))\n",
        "sum = 0\n",
        "for num in range (1, n+1, 1):\n",
        "  sum = sum + num\n",
        "print(\"Jumlah penambahan angka dari 1 sampai\", n, \"adalah:\", sum)"
      ],
      "metadata": {
        "colab": {
          "base_uri": "https://localhost:8080/"
        },
        "id": "GBTCeEyro9S6",
        "outputId": "85ae410b-680a-4a15-a948-c7183280d24c"
      },
      "execution_count": null,
      "outputs": [
        {
          "output_type": "stream",
          "name": "stdout",
          "text": [
            "masukkan angka = 10\n",
            "Jumlah penambahan angka dari 1 sampai 10 adalah: 55\n"
          ]
        }
      ]
    },
    {
      "cell_type": "markdown",
      "source": [
        "Tugas No 4\n",
        "\n",
        "Buatlah program untuk menghitung luas segitiga dengan dua cara:\n",
        "\n",
        "* Menghitung luas segitiga dengan rumus (alas x tinggi)/2\n",
        "* Menghitung luas segitiga dengan rumus heron\n",
        "\n"
      ],
      "metadata": {
        "id": "G45iD3cSyhbG"
      }
    },
    {
      "cell_type": "code",
      "source": [
        "print('Menghitung Luas Segitiga')\n",
        "print()\n",
        "a = int(input(\"alas = \"))\n",
        "t = int(input(\"tinggi = \"))\n",
        "print('Luas segitiga = ' , a*t*1/2)\n",
        "print()\n",
        "print('Menghitung Luas segitiga dengan rumus Heron')\n",
        "print()\n",
        "def perhitunganluassegitiga(a,b,c):\n",
        "  perimeter = a+b+c\n",
        "  s = perimeter / 2\n",
        "  area = (s*(s-a)*(s-b)*(s-c))**0.5\n",
        "  return area\n",
        "a = int(input(\"sisi a = \"))\n",
        "b = int(input('sisi b = '))\n",
        "c = int(input('sisi c = '))\n",
        "print('s = ', 1/2*(a+b+c))\n",
        "area = perhitunganluassegitiga (a,b,c)\n",
        "print()\n",
        "print ('Luas segitiga dengan rumus Heron = ' , str(area))"
      ],
      "metadata": {
        "colab": {
          "base_uri": "https://localhost:8080/"
        },
        "id": "-UqW7jdFygcr",
        "outputId": "b2a14cd9-0a20-4c66-c3c2-ec5e60759c46"
      },
      "execution_count": null,
      "outputs": [
        {
          "output_type": "stream",
          "name": "stdout",
          "text": [
            "Menghitung Luas Segitiga\n",
            "\n",
            "alas = 4\n",
            "tinggi = 3\n",
            "Luas segitiga =  6.0\n",
            "\n",
            "Menghitung Luas segitiga dengan rumus Heron\n",
            "\n",
            "sisi a = 3\n",
            "sisi b = 4\n",
            "sisi c = 5\n",
            "s =  6.0\n",
            "\n",
            "Luas segitiga dengan rumus Heron =  6.0\n"
          ]
        }
      ]
    },
    {
      "cell_type": "markdown",
      "source": [
        "Tugas No 5\n",
        "\n",
        "Buatlah program yang membaca input magnitude gempa dari user dan program menunjukkan informasi deskripsi dari gempa tersebut"
      ],
      "metadata": {
        "id": "48e-br9oEcKQ"
      }
    },
    {
      "cell_type": "code",
      "source": [
        "magnitude = float(input('masukkan nilai magnitude = '))\n",
        "if magnitude <2.0:\n",
        "  print ('micro earthquake')\n",
        "elif magnitude <3.9:\n",
        "  print ('minor earthquake')\n",
        "elif magnitude <4.9:\n",
        "  print ('light earthquake')\n",
        "elif magnitude <5.9:\n",
        "  print ('moderate earthquake')\n",
        "elif magnitude <6.9:\n",
        "  print ('strong earthquake')\n",
        "elif magnitude <7.9:\n",
        "  print ('major earthquake')\n",
        "elif magnitude <9.9:\n",
        "  print ('great earthquake')\n",
        "else:\n",
        "  print ('massive earthquake')"
      ],
      "metadata": {
        "colab": {
          "base_uri": "https://localhost:8080/"
        },
        "id": "ydrKFr3Hp6ny",
        "outputId": "e080bd5f-3808-44d1-99ad-c8f5472b5235"
      },
      "execution_count": null,
      "outputs": [
        {
          "output_type": "stream",
          "name": "stdout",
          "text": [
            "masukkan nilai magnitude = 5.5\n",
            "moderate earthquake\n"
          ]
        }
      ]
    },
    {
      "cell_type": "markdown",
      "source": [
        "Tugas No 1\n",
        "\n",
        "Visualisasikan data yang diberikan menggunakan matplotlib"
      ],
      "metadata": {
        "id": "fsZgkPqIFG8d"
      }
    },
    {
      "cell_type": "code",
      "source": [
        "%matplotlib inline\n",
        "import matplotlib.pyplot as plt\n",
        "import numpy as np\n",
        "import pandas as pd"
      ],
      "metadata": {
        "id": "CwI7g2gjDw4P"
      },
      "execution_count": null,
      "outputs": []
    },
    {
      "cell_type": "code",
      "source": [
        "file = ('https://raw.githubusercontent.com/hadimaster65555/dataset_for_teaching/main/dataset/linear_regression_simulation_data/linear-regression.csv')\n",
        "df = pd.read_csv(file)\n",
        "\n",
        "x = df.iloc[:,0]\n",
        "y = df.iloc[:,1]\n",
        "\n",
        "plt.scatter(x,y, label = 'random data')\n",
        "plt.legend ()\n",
        "plt.show ()"
      ],
      "metadata": {
        "colab": {
          "base_uri": "https://localhost:8080/",
          "height": 262
        },
        "id": "4_mr51c1jxKg",
        "outputId": "3bf189ac-da36-4358-cad6-a53ba98ebe07"
      },
      "execution_count": null,
      "outputs": [
        {
          "output_type": "display_data",
          "data": {
            "text/plain": [
              "<Figure size 432x288 with 1 Axes>"
            ],
            "image/png": "[encoded data removed]"
          },
          "metadata": {
            "needs_background": "light"
          }
        }
      ]
    },
    {
      "cell_type": "markdown",
      "source": [
        "Tugas No 2 \n",
        "\n",
        "Buatlah program untuk menghitung regresi linier menggunakan metode invers matriks\n"
      ],
      "metadata": {
        "id": "GkVECQB_tiqP"
      }
    },
    {
      "cell_type": "markdown",
      "source": [
        "Tugas No 3\n",
        "\n",
        "Buatlah program untuk menghitung regresi linier menggunakan method linalg.lstsq dari numpys"
      ],
      "metadata": {
        "id": "qeRufY22dXq0"
      }
    },
    {
      "cell_type": "code",
      "source": [
        "# prepare data\n",
        "x = df.iloc[:,0] # Membangun nilai acak berdasarkan distribusi\n",
        "y = df.iloc[:,1] # Membangun data untuk y-axis\n",
        "\n",
        "# cek nilai x\n",
        "x\n"
      ],
      "metadata": {
        "colab": {
          "base_uri": "https://localhost:8080/"
        },
        "id": "NxLCHvi-Iryd",
        "outputId": "33873685-0d00-44ea-e6c4-b5e4d1f07a5a"
      },
      "execution_count": null,
      "outputs": [
        {
          "output_type": "execute_result",
          "data": {
            "text/plain": [
              "0    -0.15098\n",
              "1    -0.24805\n",
              "2    -0.36056\n",
              "3     0.09375\n",
              "4    -0.25847\n",
              "       ...   \n",
              "94    0.57697\n",
              "95    0.54242\n",
              "96   -0.02820\n",
              "97   -0.52083\n",
              "98   -0.63998\n",
              "Name: 0.58705, Length: 99, dtype: float64"
            ]
          },
          "metadata": {},
          "execution_count": 88
        }
      ]
    },
    {
      "cell_type": "code",
      "source": [
        "# cek nilai y\n",
        "y"
      ],
      "metadata": {
        "colab": {
          "base_uri": "https://localhost:8080/"
        },
        "id": "pkc0dpEbV9FI",
        "outputId": "8b8d528b-471e-4d8f-d019-8c752b4e9030"
      },
      "execution_count": null,
      "outputs": [
        {
          "output_type": "execute_result",
          "data": {
            "text/plain": [
              "0     3.53372\n",
              "1     3.22805\n",
              "2     2.87947\n",
              "3     4.40297\n",
              "4     3.22351\n",
              "       ...   \n",
              "94    5.62490\n",
              "95    5.50030\n",
              "96    3.96986\n",
              "97    2.46482\n",
              "98    2.24709\n",
              "Name:  5.79555, Length: 99, dtype: float64"
            ]
          },
          "metadata": {},
          "execution_count": 89
        }
      ]
    },
    {
      "cell_type": "code",
      "source": [
        "plt.plot(x,y,'o') # Inisiasi plot\n",
        "plt.xlabel('nilai x') # Label x\n",
        "plt.ylabel('nilai y') # Label y\n",
        "plt.title('Korelasi antara X dan Y')\n",
        "plt.show() # Tunjukkan plot"
      ],
      "metadata": {
        "colab": {
          "base_uri": "https://localhost:8080/",
          "height": 291
        },
        "id": "wVKw2MQue5F5",
        "outputId": "2a354fce-cd50-472e-c201-3624bd5937d5"
      },
      "execution_count": null,
      "outputs": [
        {
          "output_type": "display_data",
          "data": {
            "text/plain": [
              "<Figure size 432x288 with 1 Axes>"
            ],
            "image/png": "[encoded data removed]"
          },
          "metadata": {
            "needs_background": "light"
          }
        }
      ]
    },
    {
      "cell_type": "code",
      "source": [
        "# membuat fit line\n",
        "print ('Fit a line, y = mx + c')\n",
        "\n",
        "A = np.vstack([x, np.ones(len(x))]).T\n",
        "A\n",
        "\n",
        "m, c = np.linalg.lstsq(A, y, rcond=None)[0]\n",
        "m,c"
      ],
      "metadata": {
        "colab": {
          "base_uri": "https://localhost:8080/"
        },
        "id": "1eG8Y6c9e_ca",
        "outputId": "c9d483b4-f5b3-4229-b35b-6ad1f044936f"
      },
      "execution_count": null,
      "outputs": [
        {
          "output_type": "stream",
          "name": "stdout",
          "text": [
            "Fit a line, y = mx + c\n"
          ]
        },
        {
          "output_type": "execute_result",
          "data": {
            "text/plain": [
              "(2.9783458141117487, 3.9912782473006794)"
            ]
          },
          "metadata": {},
          "execution_count": 143
        }
      ]
    },
    {
      "cell_type": "code",
      "source": [
        "# membuat scatter plot 1\n",
        "plt.plot(x,y,'o', label = 'Nilai Acak')\n",
        "# membuat scatter plot 2\n",
        "plt.plot(x,2.9*x+3.9,'-',label= 'Fit Line')\n",
        "# Menambah teks pada x=0.25 dan y=3, berukuran 12 dan berwarna biru\n",
        "plt.text(0.25,3, r\"$\\beta_0 = 3.922$\", fontsize=14, color=\"b\")\n",
        "# Menambah teks pada x=0.25 dan y=2, berukuran 12 dan berwarna blue\n",
        "plt.text(0.25,2, r\"$\\beta_1 = 2.981$\", fontsize=14, color=\"b\")\n",
        "# Menambah/mengganti label pada nilai x\n",
        "plt.xlabel('Nilai X')\n",
        "# Menambah/mengganti label pada nilai y\n",
        "plt.ylabel('Nilai Y')\n",
        "# menambahkan legend\n",
        "plt.legend()\n",
        "# tunjukkan plot\n",
        "plt.show()"
      ],
      "metadata": {
        "colab": {
          "base_uri": "https://localhost:8080/",
          "height": 276
        },
        "id": "asBQj4ecWl4R",
        "outputId": "4b9de84b-d5d7-4d6b-90f0-c34929f25c1c"
      },
      "execution_count": null,
      "outputs": [
        {
          "output_type": "display_data",
          "data": {
            "text/plain": [
              "<Figure size 432x288 with 1 Axes>"
            ],
            "image/png": "[encoded data removed]"
          },
          "metadata": {
            "needs_background": "light"
          }
        }
      ]
    }
  ]
}